{
 "cells": [
  {
   "cell_type": "markdown",
   "id": "28546c84-80b2-4517-9a7a-a244f658e448",
   "metadata": {},
   "source": [
    "# Basic examples"
   ]
  },
  {
   "cell_type": "markdown",
   "id": "a04034e8-8abc-43b8-a30a-ae6e8c199c32",
   "metadata": {},
   "source": [
    "## import dependencies"
   ]
  },
  {
   "cell_type": "code",
   "execution_count": 17,
   "id": "46bf57d1-a6ed-4682-836b-8a5cb4535d63",
   "metadata": {},
   "outputs": [],
   "source": [
    "import os\n",
    "import sys\n",
    "\n",
    "project_root = os.path.abspath(os.path.join(os.getcwd(), \"..\"))  # Ajuste selon la structure du projet\n",
    "sys.path.append(project_root)\n",
    "\n",
    "from src.surreal_orm import (\n",
    "    BaseSurrealModel,\n",
    "    SurrealDBConnectionManager,\n",
    "    SurrealConfigDict,\n",
    ")\n",
    "from dotenv import load_dotenv"
   ]
  },
  {
   "cell_type": "markdown",
   "id": "b79f4773-13b7-4ddc-b79a-ef321e1bc37d",
   "metadata": {},
   "source": [
    "### Setup Database Connexion config\n",
    "\n",
    "You have to set a SurrealDB in your environnement, docker or service.\n"
   ]
  },
  {
   "cell_type": "code",
   "execution_count": 18,
   "id": "7d31b47d-9ea8-4a2a-9ef7-48da39b2132f",
   "metadata": {},
   "outputs": [],
   "source": [
    "# Load environnement from .env (copy and rename .env.example in needed)\n",
    "load_dotenv()\n",
    "\n",
    "SURREALDB_URL = os.getenv(\"SURREALDB_URL\") or \"\"\n",
    "SURREALDB_USER = os.getenv(\"SURREALDB_USER\") or \"\"\n",
    "SURREALDB_PASS = os.getenv(\"SURREALDB_PASS\") or \"\"\n",
    "SURREALDB_NAMESPACE = os.getenv(\"SURREALDB_NAMESPACE\") or \"\"\n",
    "SURREALDB_DATABASE = os.getenv(\"SURREALDB_DATABASE\") or \"\"\n",
    "\n",
    "\n",
    "SurrealDBConnectionManager.set_connection(\n",
    "    SURREALDB_URL,\n",
    "    SURREALDB_USER,\n",
    "    SURREALDB_PASS,\n",
    "    SURREALDB_NAMESPACE,\n",
    "    SURREALDB_DATABASE,\n",
    ")"
   ]
  },
  {
   "cell_type": "markdown",
   "id": "8703eb0e-a64f-4b6a-85d6-ab63c57f0692",
   "metadata": {},
   "source": [
    "### Create the exemples model"
   ]
  },
  {
   "cell_type": "code",
   "execution_count": 19,
   "id": "e366bae9-d713-4e80-93c4-4c20f86f718c",
   "metadata": {},
   "outputs": [],
   "source": [
    "class User(BaseSurrealModel):\n",
    "    model_config = SurrealConfigDict(primary_key=\"email\")\n",
    "    name: str\n",
    "    age: int\n",
    "    email: str"
   ]
  },
  {
   "cell_type": "markdown",
   "id": "0e7d288b-ba18-468e-b097-684847e4bfb1",
   "metadata": {},
   "source": [
    "### Basic examples"
   ]
  },
  {
   "cell_type": "markdown",
   "id": "f7acd1ac-dc06-4000-973b-9bb988aaf25d",
   "metadata": {},
   "source": [
    "#### Create Users\n",
    "\n",
    "If you want to recreate user you need to delete it first.\n"
   ]
  },
  {
   "cell_type": "code",
   "execution_count": 20,
   "id": "df407e93-eedb-4404-a600-1965dcc56b42",
   "metadata": {},
   "outputs": [
    {
     "name": "stdout",
     "output_type": "stream",
     "text": [
      "User created: name='John Doe' age=30 email='john.doe@example.com'\n",
      "User2 created: name='Jeanne Doe' age=28 email='jeanne.doe@example.com'\n"
     ]
    }
   ],
   "source": [
    "user = User(name=\"John Doe\", age=30, email=\"john.doe@example.com\")\n",
    "await user.save()\n",
    "\n",
    "print(\"User created:\", user)\n",
    "\n",
    "user2 = User(name=\"Jeanne Doe\", age=28, email=\"jeanne.doe@example.com\")\n",
    "await user2.save()\n",
    "\n",
    "print(\"User2 created:\", user2)"
   ]
  },
  {
   "cell_type": "markdown",
   "id": "ea5eeec9-6f1a-4f24-91aa-44bba99f8d6d",
   "metadata": {},
   "source": [
    "#### Select all users"
   ]
  },
  {
   "cell_type": "code",
   "execution_count": 21,
   "id": "4b5702a1-5f78-4289-8a83-5170f87f764f",
   "metadata": {},
   "outputs": [
    {
     "name": "stdout",
     "output_type": "stream",
     "text": [
      "jeanne.doe@example.com\n",
      "john.doe@example.com\n"
     ]
    }
   ],
   "source": [
    "users = await User.objects().all()\n",
    "\n",
    "for user_item in users:\n",
    "    print(user_item.get_id())"
   ]
  },
  {
   "cell_type": "markdown",
   "id": "f3c0b7fd-6ff1-4ae9-8f91-d50b09d62296",
   "metadata": {},
   "source": [
    "#### Select the first on a filter by name"
   ]
  },
  {
   "cell_type": "code",
   "execution_count": 22,
   "id": "65488b3b-67fe-4edc-a5d7-a48ec3ac3885",
   "metadata": {},
   "outputs": [
    {
     "name": "stdout",
     "output_type": "stream",
     "text": [
      "name='John Doe' age=30 email='john.doe@example.com'\n"
     ]
    }
   ],
   "source": [
    "user = await User.objects().filter(name=\"John Doe\").first()\n",
    "print(user)"
   ]
  },
  {
   "cell_type": "markdown",
   "id": "585bfa60-d9c0-49cf-b17d-213648ba7cca",
   "metadata": {},
   "source": [
    "#### Select somes field only. Retrives dict of selected fields instead of object."
   ]
  },
  {
   "cell_type": "code",
   "execution_count": 23,
   "id": "3ec96c4f-9bdc-42dd-8c2d-22a58907043c",
   "metadata": {},
   "outputs": [
    {
     "name": "stdout",
     "output_type": "stream",
     "text": [
      "{'age': 28, 'name': 'Jeanne Doe'}\n",
      "{'age': 30, 'name': 'John Doe'}\n"
     ]
    }
   ],
   "source": [
    "users = await User.objects().select(\"name\", \"age\").exec()\n",
    "for user_item in users:\n",
    "    print(user_item)"
   ]
  },
  {
   "cell_type": "markdown",
   "id": "e5c7b0db-5f74-40f4-8940-321a7cce0e11",
   "metadata": {},
   "source": [
    "#### Update user (update all fields)"
   ]
  },
  {
   "cell_type": "code",
   "execution_count": 24,
   "id": "d72d9294-9393-4237-b3d2-5292828ea2ca",
   "metadata": {},
   "outputs": [
    {
     "name": "stdout",
     "output_type": "stream",
     "text": [
      "User updated: name='John Doe' age=31 email='john.doe@example.com'\n"
     ]
    }
   ],
   "source": [
    "user = await User.objects().filter(name=\"John Doe\").first()\n",
    "user.age = 31\n",
    "await user.update()\n",
    "print(\"User updated:\", user)"
   ]
  },
  {
   "cell_type": "markdown",
   "id": "311ca42c-bc06-47a0-99d6-fd45217a06c1",
   "metadata": {},
   "source": [
    "#### Merge user (change only the selected field of the user)"
   ]
  },
  {
   "cell_type": "code",
   "execution_count": 25,
   "id": "ee61e75d-a39a-4b00-8aab-361039283f0c",
   "metadata": {},
   "outputs": [
    {
     "name": "stdout",
     "output_type": "stream",
     "text": [
      "name='John Doe' age=31 email='john.doe@example.com'\n",
      "User merged: name='John Doe' age=31 email='john.doe@example.com'\n"
     ]
    }
   ],
   "source": [
    "user = await User.objects().get(\"john.doe@example.com\")\n",
    "print(user)\n",
    "await user.merge(age=32)\n",
    "print(\"User merged:\", user)"
   ]
  },
  {
   "cell_type": "markdown",
   "id": "5269727a-808b-4fc9-a66e-6d3443b32262",
   "metadata": {},
   "source": [
    "#### Delete a selected user"
   ]
  },
  {
   "cell_type": "code",
   "execution_count": 26,
   "id": "a814eff3-bc0c-4501-9031-7ddc78d75405",
   "metadata": {},
   "outputs": [
    {
     "name": "stdout",
     "output_type": "stream",
     "text": [
      "User deleted: name='John Doe' age=32 email='john.doe@example.com'\n"
     ]
    }
   ],
   "source": [
    "user = await User.objects().filter(name=\"John Doe\").first()\n",
    "await user.delete()\n",
    "print(\"User deleted:\", user)"
   ]
  },
  {
   "cell_type": "markdown",
   "id": "9edbaa67-ab29-4c12-af96-4741bdf8dac7",
   "metadata": {},
   "source": [
    "#### Django look DoesNotExit"
   ]
  },
  {
   "cell_type": "code",
   "execution_count": 27,
   "id": "79218885-04b9-4ce5-8a30-066341d4b3b8",
   "metadata": {},
   "outputs": [
    {
     "name": "stdout",
     "output_type": "stream",
     "text": [
      "User does not exist\n"
     ]
    }
   ],
   "source": [
    "# If user doesn't exit\n",
    "try:\n",
    "    user = await User.objects().get(\"john.smith@@example.com\")\n",
    "    user.age = 41\n",
    "    await user.update()\n",
    "    print(\"User exist\")\n",
    "except User.DoesNotExist:\n",
    "    user = User(name=\"John Smith\", age=41, email=\"john.smith@@example.com\")\n",
    "    await user.save()\n",
    "    print(\"User does not exist\")"
   ]
  },
  {
   "cell_type": "code",
   "execution_count": 28,
   "id": "fc06eb8f-1a2e-44d1-8619-21891a0377b2",
   "metadata": {},
   "outputs": [
    {
     "name": "stdout",
     "output_type": "stream",
     "text": [
      "User exist\n"
     ]
    }
   ],
   "source": [
    "# If user Exit\n",
    "try:\n",
    "    user = await User.objects().get(\"john.smith@@example.com\")\n",
    "    user.age = 42\n",
    "    await user.update()\n",
    "    print(\"User exist\")\n",
    "except User.DoesNotExist:\n",
    "    user = User(name=\"John Smith\", age=42, email=\"john.smith@@example.com\")\n",
    "    await user.save()\n",
    "    print(\"User does not exist\")"
   ]
  },
  {
   "cell_type": "markdown",
   "id": "60017148-d430-41a8-94be-ede66b11a1fa",
   "metadata": {},
   "source": [
    "#### Delete all record in the table. (don't delete the table itself)"
   ]
  },
  {
   "cell_type": "code",
   "execution_count": 29,
   "id": "5794208c-4dc2-4f2c-baff-f10c92210f13",
   "metadata": {},
   "outputs": [
    {
     "data": {
      "text/plain": [
       "True"
      ]
     },
     "execution_count": 29,
     "metadata": {},
     "output_type": "execute_result"
    }
   ],
   "source": [
    "await User.objects().delete_table()"
   ]
  },
  {
   "cell_type": "markdown",
   "id": "7c1296b5-dd28-42ac-8f27-b6c29c650dc6",
   "metadata": {},
   "source": [
    "- Fin"
   ]
  }
 ],
 "metadata": {
  "kernelspec": {
   "display_name": "Python 3 (ipykernel)",
   "language": "python",
   "name": "python3"
  },
  "language_info": {
   "codemirror_mode": {
    "name": "ipython",
    "version": 3
   },
   "file_extension": ".py",
   "mimetype": "text/x-python",
   "name": "python",
   "nbconvert_exporter": "python",
   "pygments_lexer": "ipython3",
   "version": "3.11.11"
  }
 },
 "nbformat": 4,
 "nbformat_minor": 5
}
